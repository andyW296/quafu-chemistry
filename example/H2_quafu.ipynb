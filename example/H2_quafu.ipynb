{
 "cells": [
  {
   "cell_type": "code",
   "execution_count": null,
   "id": "9109acb7",
   "metadata": {},
   "outputs": [],
   "source": [
    "# Using real quantum compute to calucate H2 energy with VQE method in Quafu."
   ]
  },
  {
   "cell_type": "code",
   "execution_count": 1,
   "id": "b75b10c2",
   "metadata": {},
   "outputs": [
    {
     "name": "stderr",
     "output_type": "stream",
     "text": [
      "libi40iw-i40iw_vmapped_qp: failed to pin memory for SQ\n",
      "libi40iw-i40iw_ucreate_qp: failed to map QP\n",
      "libi40iw-i40iw_vmapped_qp: failed to pin memory for SQ\n",
      "libi40iw-i40iw_ucreate_qp: failed to map QP\n"
     ]
    }
   ],
   "source": [
    "import sys\n",
    "sys.path.append('../src')\n",
    "from vqe import *"
   ]
  },
  {
   "cell_type": "code",
   "execution_count": 4,
   "id": "545d2e50",
   "metadata": {},
   "outputs": [
    {
     "name": "stdout",
     "output_type": "stream",
     "text": [
      "Lengt of Hamiltonian:  5\n",
      "Minimum number of QWC groupings found: 2\n",
      "The optimizer is Adam.\n"
     ]
    }
   ],
   "source": [
    "# 所需计算的分子信息 (以openfermion的格式输入)\n",
    "basis = \"sto-3g\"\n",
    "multiplicity = 1\n",
    "charge = 0\n",
    "# token_ip由用户登录quafu官网(https://quafu.baqis.ac.cn/)，复制API Token\n",
    "token_ip = 'IPZcE9VLF3XXiMtplI3NDZcBRxk5TGJ-RlxhV9HVVFM.QfwIDNwgTN4AzNxojIwhXZiwiMzETM6ICZpJye.9JiN1IzUIJiOicGbhJCLiQ1VKJiOiAXe0Jye'\n",
    "geometry = [(\"H\", [0.0, 0.0, 0]), (\"H\", [0.0, 0.0, 0.74])]\n",
    "info = [geometry, basis, multiplicity, charge]\n",
    "vqe = VQE(info, token_ip=token_ip, simulator=False,reduce_two_qubit=True)# 初始化VQE, simulate=False:使用quafu量子平台进行计算,为了提高计算精度，reduce_two_qubit=True,减少少使用两个qubits"
   ]
  },
  {
   "cell_type": "code",
   "execution_count": 5,
   "id": "cb87b326",
   "metadata": {},
   "outputs": [
    {
     "name": "stdout",
     "output_type": "stream",
     "text": [
      "[-0.33831673783543953, [], 0.39484436335590345, ['Z0'], 0.39484436335590345, ['Z1'], 0.011246157150821112, ['Z0', 'Z1'], 0.18121046201519708, ['X0', 'X1']]\n"
     ]
    }
   ],
   "source": [
    "# the Hamiltonian we used is:\n",
    "print(vqe.qham)"
   ]
  },
  {
   "cell_type": "code",
   "execution_count": 6,
   "id": "0b111f4a",
   "metadata": {},
   "outputs": [
    {
     "name": "stdout",
     "output_type": "stream",
     "text": [
      "[['Z0', 'Z1'], ['X0', 'X1']]\n"
     ]
    }
   ],
   "source": [
    "#实际测量的Hamiltonian只有两项\n",
    "print(vqe.qham_measure)\n",
    "\n",
    "# .run()运行VQE程序，运行中会打印出每次一迭代得到的能量值，和FCI的误差，以及梯度的最大值(默认使用parameters-shift方法计算梯度)\n",
    "energys, amps, grads, grads_max = vqe.run() # 返回值为能量，优化好的参数，梯度和梯度最大值"
   ]
  },
  {
   "cell_type": "code",
   "execution_count": null,
   "id": "eb5940fd",
   "metadata": {},
   "outputs": [],
   "source": [
    "# VQE运行的各种信息和使用模拟器时是类似的\n",
    "# ansatz\n",
    "vqe.qc.plot_circuit(title='H2 Quantum Circuit') "
   ]
  },
  {
   "cell_type": "code",
   "execution_count": null,
   "id": "0f9e943e",
   "metadata": {},
   "outputs": [],
   "source": []
  }
 ],
 "metadata": {
  "kernelspec": {
   "display_name": "Python [conda env:py39]",
   "language": "python",
   "name": "conda-env-py39-py"
  },
  "language_info": {
   "codemirror_mode": {
    "name": "ipython",
    "version": 3
   },
   "file_extension": ".py",
   "mimetype": "text/x-python",
   "name": "python",
   "nbconvert_exporter": "python",
   "pygments_lexer": "ipython3",
   "version": "3.9.0"
  },
  "toc": {
   "base_numbering": 1,
   "nav_menu": {},
   "number_sections": true,
   "sideBar": true,
   "skip_h1_title": false,
   "title_cell": "Table of Contents",
   "title_sidebar": "Contents",
   "toc_cell": false,
   "toc_position": {},
   "toc_section_display": true,
   "toc_window_display": false
  }
 },
 "nbformat": 4,
 "nbformat_minor": 5
}
